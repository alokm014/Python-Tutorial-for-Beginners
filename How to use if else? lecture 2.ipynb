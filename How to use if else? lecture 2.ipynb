{
 "cells": [
  {
   "cell_type": "code",
   "execution_count": 1,
   "metadata": {},
   "outputs": [],
   "source": [
    "a = 10\n",
    "b = 20\n",
    "c = 25\n",
    "d = 25"
   ]
  },
  {
   "cell_type": "markdown",
   "metadata": {},
   "source": [
    "# if condition"
   ]
  },
  {
   "cell_type": "code",
   "execution_count": 3,
   "metadata": {},
   "outputs": [
    {
     "name": "stdout",
     "output_type": "stream",
     "text": [
      "I am not in if statement\n"
     ]
    }
   ],
   "source": [
    "if a > b:\n",
    "    print(\"A is Greter than B\")\n",
    "\n",
    "print(\"I am not in if statement\")"
   ]
  },
  {
   "cell_type": "markdown",
   "metadata": {},
   "source": [
    "# else if condition"
   ]
  },
  {
   "cell_type": "code",
   "execution_count": 4,
   "metadata": {},
   "outputs": [
    {
     "name": "stdout",
     "output_type": "stream",
     "text": [
      "A is less than b\n",
      "I am in else if statement\n"
     ]
    }
   ],
   "source": [
    "if a > b:\n",
    "    print(\"A is greater than b\")\n",
    "    print(\"I am in if statement\")\n",
    "\n",
    "elif a < b:\n",
    "    print(\"A is less than b\")\n",
    "    print(\"I am in else if statement\")"
   ]
  },
  {
   "cell_type": "markdown",
   "metadata": {},
   "source": [
    "# else condition "
   ]
  },
  {
   "cell_type": "code",
   "execution_count": 5,
   "metadata": {},
   "outputs": [
    {
     "name": "stdout",
     "output_type": "stream",
     "text": [
      "Error\n"
     ]
    }
   ],
   "source": [
    "if a > b:\n",
    "    print(\"A is greater than b\")\n",
    "    print(\"I am in if statement\")\n",
    "\n",
    "elif a == b:\n",
    "    print(\"A is less than b\")\n",
    "    print(\"I am in else if statement\")\n",
    "    \n",
    "else:\n",
    "    print(\"Error\")"
   ]
  },
  {
   "cell_type": "markdown",
   "metadata": {},
   "source": [
    "# nested conditon"
   ]
  },
  {
   "cell_type": "code",
   "execution_count": 9,
   "metadata": {},
   "outputs": [
    {
     "name": "stdout",
     "output_type": "stream",
     "text": [
      "A is less than b\n",
      "I am in else if statement\n",
      "C is equals to d\n"
     ]
    }
   ],
   "source": [
    "if a > b:\n",
    "    print(\"A is greater than b\")\n",
    "    print(\"I am in if statement\")\n",
    "\n",
    "elif a < b:\n",
    "    print(\"A is less than b\")\n",
    "    print(\"I am in else if statement\")\n",
    "    \n",
    "    if c < d:\n",
    "        print(\"C is less than d\")\n",
    "        \n",
    "    else:\n",
    "        print(\"C is equals to d\")\n",
    "    \n",
    "else:\n",
    "    print(\"Error\")"
   ]
  },
  {
   "cell_type": "markdown",
   "metadata": {},
   "source": [
    "# BMI Calculator"
   ]
  },
  {
   "cell_type": "code",
   "execution_count": 18,
   "metadata": {},
   "outputs": [
    {
     "name": "stdout",
     "output_type": "stream",
     "text": [
      "Enter Your Name: alok\n",
      "Enter Your Height in meter: 2\n",
      "Enter Your Weight in kg: 110\n"
     ]
    }
   ],
   "source": [
    "name = raw_input(\"Enter Your Name: \")\n",
    "height = raw_input(\"Enter Your Height in meter: \")\n",
    "weight = raw_input(\"Enter Your Weight in kg: \")"
   ]
  },
  {
   "cell_type": "code",
   "execution_count": 19,
   "metadata": {},
   "outputs": [
    {
     "name": "stdout",
     "output_type": "stream",
     "text": [
      "27\n"
     ]
    }
   ],
   "source": [
    "bmi = int(weight) / (int(height)**2)\n",
    "print bmi"
   ]
  },
  {
   "cell_type": "code",
   "execution_count": 20,
   "metadata": {},
   "outputs": [
    {
     "name": "stdout",
     "output_type": "stream",
     "text": [
      "alok\n",
      "is overweight\n"
     ]
    }
   ],
   "source": [
    "if bmi < 25:\n",
    "    print(name)\n",
    "    print('is not overweight')\n",
    "    \n",
    "else:\n",
    "    print(name)\n",
    "    print('is overweight')"
   ]
  },
  {
   "cell_type": "code",
   "execution_count": null,
   "metadata": {},
   "outputs": [],
   "source": []
  }
 ],
 "metadata": {
  "kernelspec": {
   "display_name": "Python 2",
   "language": "python",
   "name": "python2"
  },
  "language_info": {
   "codemirror_mode": {
    "name": "ipython",
    "version": 2
   },
   "file_extension": ".py",
   "mimetype": "text/x-python",
   "name": "python",
   "nbconvert_exporter": "python",
   "pygments_lexer": "ipython2",
   "version": "2.7.16"
  }
 },
 "nbformat": 4,
 "nbformat_minor": 2
}
